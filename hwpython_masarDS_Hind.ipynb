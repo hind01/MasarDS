{
  "nbformat": 4,
  "nbformat_minor": 0,
  "metadata": {
    "colab": {
      "provenance": [],
      "authorship_tag": "ABX9TyMP6yKl5pe40l7Ods9yMbmC",
      "include_colab_link": true
    },
    "kernelspec": {
      "name": "python3",
      "display_name": "Python 3"
    },
    "language_info": {
      "name": "python"
    }
  },
  "cells": [
    {
      "cell_type": "markdown",
      "metadata": {
        "id": "view-in-github",
        "colab_type": "text"
      },
      "source": [
        "<a href=\"https://colab.research.google.com/github/hind01/MasarDS/blob/main/hwpython_masarDS_Hind.ipynb\" target=\"_parent\"><img src=\"https://colab.research.google.com/assets/colab-badge.svg\" alt=\"Open In Colab\"/></a>"
      ]
    },
    {
      "cell_type": "markdown",
      "source": [],
      "metadata": {
        "id": "pSsfY7qe86dR"
      }
    },
    {
      "cell_type": "markdown",
      "source": [
        "#المحور الأول :دروس بايثون\n"
      ],
      "metadata": {
        "id": "3q6Dte5v88EU"
      }
    },
    {
      "cell_type": "markdown",
      "source": [],
      "metadata": {
        "id": "AE0ApPzj8yJM"
      }
    },
    {
      "cell_type": "markdown",
      "source": [
        "##تعريف المتغيرات\n",
        "\n"
      ],
      "metadata": {
        "id": "Kpq6W7gn9A6Y"
      }
    },
    {
      "cell_type": "code",
      "source": [
        "name = \"Hind\" #تعريف المتغيرات\n",
        "age = 30\n",
        "print(f'Hi every body my name is {name}, my age {age} , :) I will become a data scientist')#امر الطباعة"
      ],
      "metadata": {
        "colab": {
          "base_uri": "https://localhost:8080/"
        },
        "id": "LIEz3I3R9GHO",
        "outputId": "72e13a6b-225c-4c24-de31-d5d6bcadd6ee"
      },
      "execution_count": 2,
      "outputs": [
        {
          "output_type": "stream",
          "name": "stdout",
          "text": [
            "Hi every body my name is Hind, my age 30 , :) I will become a data scientist\n"
          ]
        }
      ]
    }
  ]
}